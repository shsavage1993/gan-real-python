{
 "cells": [
  {
   "cell_type": "markdown",
   "id": "e8fa2514",
   "metadata": {},
   "source": [
    "# Generative Adversarial Networks - Sine Graph\n",
    "Source: https://realpython.com/generative-adversarial-networks/"
   ]
  },
  {
   "cell_type": "code",
   "execution_count": 1,
   "id": "bb71c493",
   "metadata": {},
   "outputs": [
    {
     "data": {
      "text/plain": [
       "<torch._C.Generator at 0x7f1e64191510>"
      ]
     },
     "execution_count": 1,
     "metadata": {},
     "output_type": "execute_result"
    }
   ],
   "source": [
    "import torch\n",
    "from torch import nn\n",
    "\n",
    "import math\n",
    "import matplotlib.pyplot as plt\n",
    "\n",
    "torch.manual_seed(111)"
   ]
  },
  {
   "cell_type": "markdown",
   "id": "f64c5344",
   "metadata": {},
   "source": [
    "### Preparing the training data"
   ]
  },
  {
   "cell_type": "code",
   "execution_count": 2,
   "id": "6ff9e39a",
   "metadata": {},
   "outputs": [],
   "source": [
    "train_data_length = 1024\n",
    "train_data = torch.zeros((train_data_length, 2))\n",
    "train_data[:, 0] = 2 * math.pi * torch.rand(train_data_length)\n",
    "train_data[:, 1] = torch.sin(train_data[:, 0])\n",
    "# create tensor of labels, required by PyTorch’s data loader\n",
    "# GANs make use of unsupervised learning techniques\n",
    "# so labels can be anything as they won't be used\n",
    "train_labels = torch.zeros(train_data_length)\n",
    "train_set = [\n",
    "    (train_data[i], train_labels[i]) for i in range(train_data_length)\n",
    "]"
   ]
  },
  {
   "cell_type": "code",
   "execution_count": 3,
   "id": "1c97af52",
   "metadata": {},
   "outputs": [
    {
     "data": {
      "text/plain": [
       "[<matplotlib.lines.Line2D at 0x7f1dd0605fd0>]"
      ]
     },
     "execution_count": 3,
     "metadata": {},
     "output_type": "execute_result"
    },
    {
     "data": {
      "image/png": "[encoded data removed]",
      "text/plain": [
       "<Figure size 432x288 with 1 Axes>"
      ]
     },
     "metadata": {
      "needs_background": "light"
     },
     "output_type": "display_data"
    }
   ],
   "source": [
    "plt.plot(train_data[:, 0], train_data[:, 1], \".\")"
   ]
  },
  {
   "cell_type": "code",
   "execution_count": 4,
   "id": "f4035b2a",
   "metadata": {},
   "outputs": [],
   "source": [
    "batch_size = 32\n",
    "train_loader = torch.utils.data.DataLoader(\n",
    "    train_set, batch_size=batch_size, shuffle=True\n",
    ")"
   ]
  },
  {
   "cell_type": "markdown",
   "id": "b762ffd5",
   "metadata": {},
   "source": [
    "### Implementing the Discriminator"
   ]
  },
  {
   "cell_type": "code",
   "execution_count": 5,
   "id": "689c4885",
   "metadata": {},
   "outputs": [],
   "source": [
    "class Discriminator(nn.Module):\n",
    "    def __init__(self):\n",
    "        super().__init__()\n",
    "        self.model = nn.Sequential(\n",
    "            nn.Linear(2, 256),\n",
    "            nn.ReLU(),\n",
    "            nn.Dropout(0.3),\n",
    "            nn.Linear(256, 128),\n",
    "            nn.ReLU(),\n",
    "            nn.Dropout(0.3),\n",
    "            nn.Linear(128, 64),\n",
    "            nn.ReLU(),\n",
    "            nn.Dropout(0.3),\n",
    "            nn.Linear(64, 1),\n",
    "            nn.Sigmoid(),\n",
    "        )\n",
    "\n",
    "    def forward(self, x):\n",
    "        output = self.model(x)\n",
    "        return output"
   ]
  },
  {
   "cell_type": "code",
   "execution_count": 6,
   "id": "f85f4472",
   "metadata": {},
   "outputs": [],
   "source": [
    "discriminator = Discriminator()"
   ]
  },
  {
   "cell_type": "markdown",
   "id": "8e7ba84e",
   "metadata": {},
   "source": [
    "### Implementing the Generator"
   ]
  },
  {
   "cell_type": "code",
   "execution_count": 7,
   "id": "89cba969",
   "metadata": {},
   "outputs": [],
   "source": [
    "class Generator (nn.Module):\n",
    "    def __init__(self):\n",
    "        super().__init__()\n",
    "        self.model = nn.Sequential(\n",
    "            nn.Linear(2,16),\n",
    "            nn.ReLU(),\n",
    "            nn.Linear(16, 32),\n",
    "            nn.ReLU(),\n",
    "            nn.Linear(32,2)\n",
    "        )\n",
    "        \n",
    "    def forward(self, x):\n",
    "        output = self.model(x)\n",
    "        return output"
   ]
  },
  {
   "cell_type": "code",
   "execution_count": 8,
   "id": "18c880cb",
   "metadata": {},
   "outputs": [],
   "source": [
    "generator = Generator()"
   ]
  },
  {
   "cell_type": "markdown",
   "id": "8a5df564",
   "metadata": {},
   "source": [
    "### Training the Models\n",
    "Binary cross-entropy function is a suitable loss function for training the discriminator because it considers a binary classification task. It is also suitable for training the generator since the generator feeds its output to the discriminator, which provides a binary observable output."
   ]
  },
  {
   "cell_type": "code",
   "execution_count": 9,
   "id": "8ea6c6b9",
   "metadata": {},
   "outputs": [],
   "source": [
    "lr = 0.001 # learning rate\n",
    "num_epochs = 300 # number of epochs\n",
    "loss_function = nn.BCELoss() # binary cross-entropy loss function"
   ]
  },
  {
   "cell_type": "code",
   "execution_count": 10,
   "id": "e5adb541",
   "metadata": {},
   "outputs": [],
   "source": [
    "optimizer_discriminator = torch.optim.Adam(discriminator.parameters(), lr=lr)\n",
    "optimizer_generator = torch.optim.Adam(generator.parameters(), lr=lr)"
   ]
  },
  {
   "cell_type": "code",
   "execution_count": 11,
   "id": "aa15df51",
   "metadata": {},
   "outputs": [
    {
     "name": "stdout",
     "output_type": "stream",
     "text": [
      "Epoch: 0 Loss D.: 0.21308739483356476\n",
      "Epoch: 0 Loss G.: 1.7989580631256104\n",
      "Epoch: 10 Loss D.: 0.6099680662155151\n",
      "Epoch: 10 Loss G.: 0.9077385067939758\n",
      "Epoch: 20 Loss D.: 0.620063066482544\n",
      "Epoch: 20 Loss G.: 0.9532096982002258\n",
      "Epoch: 30 Loss D.: 0.6275916695594788\n",
      "Epoch: 30 Loss G.: 0.9946527481079102\n",
      "Epoch: 40 Loss D.: 0.6435611248016357\n",
      "Epoch: 40 Loss G.: 1.0653221607208252\n",
      "Epoch: 50 Loss D.: 0.6671847105026245\n",
      "Epoch: 50 Loss G.: 0.7874217629432678\n",
      "Epoch: 60 Loss D.: 0.7019680142402649\n",
      "Epoch: 60 Loss G.: 0.7117553949356079\n",
      "Epoch: 70 Loss D.: 0.6384673118591309\n",
      "Epoch: 70 Loss G.: 0.8765016198158264\n",
      "Epoch: 80 Loss D.: 0.6774991154670715\n",
      "Epoch: 80 Loss G.: 0.9078847169876099\n",
      "Epoch: 90 Loss D.: 0.6131874322891235\n",
      "Epoch: 90 Loss G.: 0.8677703738212585\n",
      "Epoch: 100 Loss D.: 0.6628223657608032\n",
      "Epoch: 100 Loss G.: 0.6715638637542725\n",
      "Epoch: 110 Loss D.: 0.7007931470870972\n",
      "Epoch: 110 Loss G.: 0.6893211007118225\n",
      "Epoch: 120 Loss D.: 0.6354084014892578\n",
      "Epoch: 120 Loss G.: 0.9710942506790161\n",
      "Epoch: 130 Loss D.: 0.6927199959754944\n",
      "Epoch: 130 Loss G.: 0.7362911105155945\n",
      "Epoch: 140 Loss D.: 0.6879706978797913\n",
      "Epoch: 140 Loss G.: 0.7312357425689697\n",
      "Epoch: 150 Loss D.: 0.6723994612693787\n",
      "Epoch: 150 Loss G.: 0.7845222353935242\n",
      "Epoch: 160 Loss D.: 0.6594194173812866\n",
      "Epoch: 160 Loss G.: 0.9071089625358582\n",
      "Epoch: 170 Loss D.: 0.6441013216972351\n",
      "Epoch: 170 Loss G.: 0.7460194230079651\n",
      "Epoch: 180 Loss D.: 0.6600231528282166\n",
      "Epoch: 180 Loss G.: 0.6865212917327881\n",
      "Epoch: 190 Loss D.: 0.6201184391975403\n",
      "Epoch: 190 Loss G.: 0.9007578492164612\n",
      "Epoch: 200 Loss D.: 0.6639776229858398\n",
      "Epoch: 200 Loss G.: 0.8301376104354858\n",
      "Epoch: 210 Loss D.: 0.6705175042152405\n",
      "Epoch: 210 Loss G.: 0.8806204199790955\n",
      "Epoch: 220 Loss D.: 0.6661874055862427\n",
      "Epoch: 220 Loss G.: 0.7442606687545776\n",
      "Epoch: 230 Loss D.: 0.7002785205841064\n",
      "Epoch: 230 Loss G.: 0.7413456439971924\n",
      "Epoch: 240 Loss D.: 0.5940403938293457\n",
      "Epoch: 240 Loss G.: 0.8183181285858154\n",
      "Epoch: 250 Loss D.: 0.6721919178962708\n",
      "Epoch: 250 Loss G.: 0.899483859539032\n",
      "Epoch: 260 Loss D.: 0.6592420339584351\n",
      "Epoch: 260 Loss G.: 0.7551497220993042\n",
      "Epoch: 270 Loss D.: 0.6152049899101257\n",
      "Epoch: 270 Loss G.: 0.8802909255027771\n",
      "Epoch: 280 Loss D.: 0.7051637768745422\n",
      "Epoch: 280 Loss G.: 0.7850525975227356\n",
      "Epoch: 290 Loss D.: 0.6748937368392944\n",
      "Epoch: 290 Loss G.: 0.9214663505554199\n"
     ]
    }
   ],
   "source": [
    "for epoch in range(num_epochs):\n",
    "    for n, (real_samples, _) in enumerate(train_loader):\n",
    "        # Data for training the discriminator\n",
    "        real_samples_labels = torch.ones((batch_size, 1))\n",
    "        latent_space_samples = torch.randn((batch_size, 2)) # input to be fed to generator\n",
    "        generated_samples = generator(latent_space_samples)\n",
    "        generated_samples_labels = torch.zeros((batch_size, 1))\n",
    "        all_samples = torch.cat((real_samples, generated_samples))\n",
    "        all_samples_labels = torch.cat(\n",
    "            (real_samples_labels, generated_samples_labels)\n",
    "        )\n",
    "\n",
    "        # Training the discriminator\n",
    "        discriminator.zero_grad()\n",
    "        output_discriminator = discriminator(all_samples)\n",
    "        loss_discriminator = loss_function(\n",
    "            output_discriminator, all_samples_labels)\n",
    "        loss_discriminator.backward()\n",
    "        optimizer_discriminator.step()\n",
    "\n",
    "        # Data for training the generator\n",
    "        latent_space_samples = torch.randn((batch_size, 2))\n",
    "\n",
    "        # Training the generator\n",
    "        generator.zero_grad()\n",
    "        generated_samples = generator(latent_space_samples)\n",
    "        output_discriminator_generated = discriminator(generated_samples)\n",
    "        loss_generator = loss_function(\n",
    "            output_discriminator_generated, real_samples_labels\n",
    "        )\n",
    "        loss_generator.backward()\n",
    "        optimizer_generator.step()\n",
    "\n",
    "        # Show loss\n",
    "        if epoch % 10 == 0 and n == batch_size - 1:\n",
    "            print(f\"Epoch: {epoch} Loss D.: {loss_discriminator}\")\n",
    "            print(f\"Epoch: {epoch} Loss G.: {loss_generator}\")"
   ]
  },
  {
   "cell_type": "markdown",
   "id": "76d5c9a2",
   "metadata": {},
   "source": [
    "### Reviewing the GAN Generator"
   ]
  },
  {
   "cell_type": "code",
   "execution_count": 12,
   "id": "765957fb",
   "metadata": {},
   "outputs": [
    {
     "data": {
      "text/plain": [
       "[<matplotlib.lines.Line2D at 0x7f1dce856310>]"
      ]
     },
     "execution_count": 12,
     "metadata": {},
     "output_type": "execute_result"
    },
    {
     "data": {
      "image/png": "[encoded data removed]",
      "text/plain": [
       "<Figure size 432x288 with 1 Axes>"
      ]
     },
     "metadata": {
      "needs_background": "light"
     },
     "output_type": "display_data"
    }
   ],
   "source": [
    "latent_space_samples = torch.randn(100, 2)\n",
    "generated_samples = generator(latent_space_samples)\n",
    "generated_samples = generated_samples.detach()\n",
    "# .detach() constructs a new view on a tensor which is declared not to need gradients\n",
    "plt.plot(generated_samples[:, 0], generated_samples[:, 1], \".\")"
   ]
  },
  {
   "cell_type": "markdown",
   "id": "24bcb87a",
   "metadata": {},
   "source": [
    "At the beginning of the training process, the generated data distribution is very different from the real data. However, as the training progresses, the generator learns the real data distribution."
   ]
  }
 ],
 "metadata": {
  "kernelspec": {
   "display_name": "gans-env",
   "language": "python",
   "name": "gans-env"
  },
  "language_info": {
   "codemirror_mode": {
    "name": "ipython",
    "version": 3
   },
   "file_extension": ".py",
   "mimetype": "text/x-python",
   "name": "python",
   "nbconvert_exporter": "python",
   "pygments_lexer": "ipython3",
   "version": "3.8.12"
  }
 },
 "nbformat": 4,
 "nbformat_minor": 5
}
