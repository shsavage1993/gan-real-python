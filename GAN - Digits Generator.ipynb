{
 "cells": [
  {
   "cell_type": "markdown",
   "id": "bd0f4763",
   "metadata": {},
   "source": [
    "# Generative Adversarial Networks - Digits Generator\n",
    "Source: https://realpython.com/generative-adversarial-networks/"
   ]
  },
  {
   "cell_type": "markdown",
   "id": "9eeba03f",
   "metadata": {},
   "source": [
    "In this example, we will use a GAN to generate images of handwritten digits. For that, we will train the models using the MNIST dataset of handwritten digits, which is included in the torchvision package."
   ]
  },
  {
   "cell_type": "code",
   "execution_count": 1,
   "id": "6c1b504f",
   "metadata": {},
   "outputs": [
    {
     "data": {
      "text/plain": [
       "<torch._C.Generator at 0x7efed411d4f0>"
      ]
     },
     "execution_count": 1,
     "metadata": {},
     "output_type": "execute_result"
    }
   ],
   "source": [
    "import torch\n",
    "from torch import nn\n",
    "\n",
    "import math\n",
    "import matplotlib.pyplot as plt\n",
    "import torchvision\n",
    "import torchvision.transforms as transforms\n",
    "\n",
    "torch.manual_seed(111)"
   ]
  },
  {
   "cell_type": "markdown",
   "id": "66b1edf9",
   "metadata": {},
   "source": [
    "To reduce the training time, you can use a GPU to train the model if you have one available. However, you’ll need to manually move tensors and models to the GPU in order to use them in the training process.\n",
    "\n",
    "Ensure the code will run on either setup by creating a device object that points either to the CPU or, if one is available, to the GPU:"
   ]
  },
  {
   "cell_type": "code",
   "execution_count": 2,
   "id": "1dd55b5b",
   "metadata": {},
   "outputs": [],
   "source": [
    "device = \"\"\n",
    "if torch.cuda.is_available():\n",
    "    device = torch.device(\"cuda\")\n",
    "else:\n",
    "    device = torch.device(\"cpu\")"
   ]
  },
  {
   "cell_type": "markdown",
   "id": "241a7e01",
   "metadata": {},
   "source": [
    "### Preparing the Training Data\n",
    "The MNIST dataset consists of 28 × 28 pixel grayscale images of handwritten digits from 0 to 9. To use them with PyTorch, we need to perform some conversions. For that, we define `transform`, a function to be used when loading the data:"
   ]
  },
  {
   "cell_type": "code",
   "execution_count": 3,
   "id": "3bf7f811",
   "metadata": {},
   "outputs": [],
   "source": [
    "transform = transforms.Compose(\n",
    "    [\n",
    "        transforms.ToTensor(), \n",
    "         transforms.Normalize((0.5,), (0.5,))\n",
    "    ]\n",
    ")"
   ]
  },
  {
   "cell_type": "markdown",
   "id": "0d2d75ff",
   "metadata": {},
   "source": [
    "The original coefficients given by `transforms.ToTensor()` range from 0 to 1, and since the image backgrounds are black, most of the coefficients are equal to 0 when they’re represented using this range.\n",
    "\n",
    "`transforms.Normalize()` changes the range of the coefficients to -1 to 1 by subtracting 0.5 from the original coefficients and dividing the result by 0.5. With this transformation, the number of elements equal to 0 in the input samples is dramatically reduced, which helps in training the models.\n",
    "\n",
    "*The arguments of `transforms.Normalize()` are two tuples, (M₁, ..., Mₙ) and (S₁, ..., Sₙ), with n representing the number of channels of the images. Grayscale images such as those in MNIST dataset have only one channel, so the tuples have only one value.*"
   ]
  },
  {
   "cell_type": "code",
   "execution_count": 4,
   "id": "9169a85c",
   "metadata": {},
   "outputs": [],
   "source": [
    "train_set = torchvision.datasets.MNIST(\n",
    "    root=\".\", train=True, download=True, transform=transform\n",
    ")\n",
    "\n",
    "batch_size = 32\n",
    "train_loader = torch.utils.data.DataLoader(\n",
    "    train_set, batch_size=batch_size, shuffle=True\n",
    ")"
   ]
  },
  {
   "cell_type": "code",
   "execution_count": 5,
   "id": "087fd0d7",
   "metadata": {},
   "outputs": [
    {
     "data": {
      "image/png": "[encoded data removed]",
      "text/plain": [
       "<Figure size 432x288 with 16 Axes>"
      ]
     },
     "metadata": {},
     "output_type": "display_data"
    }
   ],
   "source": [
    "real_samples, mnist_labels = next(iter(train_loader))\n",
    "for i in range(16):\n",
    "    ax = plt.subplot(4, 4, i + 1)\n",
    "    plt.imshow(real_samples[i].reshape(28, 28), cmap=\"gray_r\")\n",
    "    plt.xticks([])\n",
    "    plt.yticks([])"
   ]
  },
  {
   "cell_type": "markdown",
   "id": "4e0a496a",
   "metadata": {},
   "source": [
    "### Implementing the Discriminator"
   ]
  },
  {
   "cell_type": "code",
   "execution_count": 6,
   "id": "d2fe699c",
   "metadata": {},
   "outputs": [],
   "source": [
    "class Discriminator(nn.Module):\n",
    "    def __init__(self):\n",
    "        super().__init__()\n",
    "        self.model = nn.Sequential(\n",
    "            nn.Linear(784, 1024),\n",
    "            nn.ReLU(),\n",
    "            nn.Dropout(0.3),\n",
    "            nn.Linear(1024, 512),\n",
    "            nn.ReLU(),\n",
    "            nn.Dropout(0.3),\n",
    "            nn.Linear(512, 256),\n",
    "            nn.ReLU(),\n",
    "            nn.Dropout(0.3),\n",
    "            nn.Linear(256, 1),\n",
    "            nn.Sigmoid(),\n",
    "        )\n",
    "\n",
    "    def forward(self, x):\n",
    "        x = x.view(x.size(0), 784)\n",
    "        output = self.model(x)\n",
    "        return output"
   ]
  },
  {
   "cell_type": "code",
   "execution_count": 7,
   "id": "e282ba5e",
   "metadata": {},
   "outputs": [],
   "source": [
    "discriminator = Discriminator().to(device=device)\n",
    "# send discriminator model to the device object created earlier to use a GPU if it's one available"
   ]
  },
  {
   "cell_type": "markdown",
   "id": "d3ad1761",
   "metadata": {},
   "source": [
    "### Implementing the Generator\n",
    "Since the generator is going to generate more complex data, it is necessary to increase the dimensions of the input from the latent space. In this case, the generator will be fed a 100-dimensional input and will provide an output with 784 coefficients, which will be organized in a 28 × 28 tensor representing an image."
   ]
  },
  {
   "cell_type": "code",
   "execution_count": 8,
   "id": "5ff7bd59",
   "metadata": {},
   "outputs": [],
   "source": [
    "class Generator(nn.Module):\n",
    "    def __init__(self):\n",
    "        super().__init__()\n",
    "        self.model = nn.Sequential(\n",
    "            nn.Linear(100, 256),\n",
    "            nn.ReLU(),\n",
    "            nn.Linear(256, 512),\n",
    "            nn.ReLU(),\n",
    "            nn.Linear(512, 1024),\n",
    "            nn.ReLU(),\n",
    "            nn.Linear(1024, 784),\n",
    "            nn.Tanh(),\n",
    "        )\n",
    "\n",
    "    def forward(self, x):\n",
    "        output = self.model(x)\n",
    "        output = output.view(x.size(0), 1, 28, 28)\n",
    "        return output\n",
    "\n",
    "generator = Generator().to(device=device)\n",
    "# send generator model to the device object created earlier to use a GPU if it's one available"
   ]
  },
  {
   "cell_type": "markdown",
   "id": "946867ba",
   "metadata": {},
   "source": [
    "In __line 12__, we use the hyperbolic tangent function `Tanh()` as the activation of the output layer since the output coefficients should be in the interval from -1 to 1. In __line 20__, we instantiate the generator and send it to device to use the GPU if one is available."
   ]
  },
  {
   "cell_type": "markdown",
   "id": "be8103ca",
   "metadata": {},
   "source": [
    "### Training the Models"
   ]
  },
  {
   "cell_type": "code",
   "execution_count": 9,
   "id": "7e92e771",
   "metadata": {},
   "outputs": [],
   "source": [
    "lr = 0.0001\n",
    "num_epochs = 50\n",
    "loss_function = nn.BCELoss()\n",
    "\n",
    "optimizer_discriminator = torch.optim.Adam(discriminator.parameters(), lr=lr)\n",
    "optimizer_generator = torch.optim.Adam(generator.parameters(), lr=lr)"
   ]
  },
  {
   "cell_type": "code",
   "execution_count": 10,
   "id": "5eba6afc",
   "metadata": {},
   "outputs": [
    {
     "name": "stdout",
     "output_type": "stream",
     "text": [
      "Epoch: 0 Loss D.: 0.5692477226257324\n",
      "Epoch: 0 Loss G.: 0.47790801525115967\n",
      "Epoch: 1 Loss D.: 0.14374998211860657\n",
      "Epoch: 1 Loss G.: 5.175516128540039\n",
      "Epoch: 2 Loss D.: 0.01926848478615284\n",
      "Epoch: 2 Loss G.: 4.7195563316345215\n",
      "Epoch: 3 Loss D.: 0.046195365488529205\n",
      "Epoch: 3 Loss G.: 4.74737024307251\n",
      "Epoch: 4 Loss D.: 0.11068927496671677\n",
      "Epoch: 4 Loss G.: 5.1093831062316895\n",
      "Epoch: 5 Loss D.: 0.019640032202005386\n",
      "Epoch: 5 Loss G.: 3.969994068145752\n",
      "Epoch: 6 Loss D.: 0.21670827269554138\n",
      "Epoch: 6 Loss G.: 3.0092053413391113\n",
      "Epoch: 7 Loss D.: 0.2642088532447815\n",
      "Epoch: 7 Loss G.: 2.6280152797698975\n",
      "Epoch: 8 Loss D.: 0.20325316488742828\n",
      "Epoch: 8 Loss G.: 3.3397650718688965\n",
      "Epoch: 9 Loss D.: 0.3616112768650055\n",
      "Epoch: 9 Loss G.: 2.2936105728149414\n",
      "Epoch: 10 Loss D.: 0.3907531201839447\n",
      "Epoch: 10 Loss G.: 2.827519416809082\n",
      "Epoch: 11 Loss D.: 0.33663520216941833\n",
      "Epoch: 11 Loss G.: 2.374356746673584\n",
      "Epoch: 12 Loss D.: 0.2610163390636444\n",
      "Epoch: 12 Loss G.: 1.9030958414077759\n",
      "Epoch: 13 Loss D.: 0.38877493143081665\n",
      "Epoch: 13 Loss G.: 1.5610135793685913\n",
      "Epoch: 14 Loss D.: 0.3453291356563568\n",
      "Epoch: 14 Loss G.: 1.4511818885803223\n",
      "Epoch: 15 Loss D.: 0.39829227328300476\n",
      "Epoch: 15 Loss G.: 1.4977085590362549\n",
      "Epoch: 16 Loss D.: 0.499044805765152\n",
      "Epoch: 16 Loss G.: 1.648877739906311\n",
      "Epoch: 17 Loss D.: 0.363641619682312\n",
      "Epoch: 17 Loss G.: 1.4704617261886597\n",
      "Epoch: 18 Loss D.: 0.3811352252960205\n",
      "Epoch: 18 Loss G.: 1.288215160369873\n",
      "Epoch: 19 Loss D.: 0.41764217615127563\n",
      "Epoch: 19 Loss G.: 1.3110015392303467\n",
      "Epoch: 20 Loss D.: 0.3472898006439209\n",
      "Epoch: 20 Loss G.: 1.4282361268997192\n",
      "Epoch: 21 Loss D.: 0.43409380316734314\n",
      "Epoch: 21 Loss G.: 1.2160396575927734\n",
      "Epoch: 22 Loss D.: 0.6288070678710938\n",
      "Epoch: 22 Loss G.: 1.4155519008636475\n",
      "Epoch: 23 Loss D.: 0.4673498272895813\n",
      "Epoch: 23 Loss G.: 1.539910078048706\n",
      "Epoch: 24 Loss D.: 0.5383062958717346\n",
      "Epoch: 24 Loss G.: 1.0651110410690308\n",
      "Epoch: 25 Loss D.: 0.4826586842536926\n",
      "Epoch: 25 Loss G.: 1.2703245878219604\n",
      "Epoch: 26 Loss D.: 0.5954387187957764\n",
      "Epoch: 26 Loss G.: 1.2255593538284302\n",
      "Epoch: 27 Loss D.: 0.42070144414901733\n",
      "Epoch: 27 Loss G.: 1.1787110567092896\n",
      "Epoch: 28 Loss D.: 0.5645704865455627\n",
      "Epoch: 28 Loss G.: 1.0480802059173584\n",
      "Epoch: 29 Loss D.: 0.4813774824142456\n",
      "Epoch: 29 Loss G.: 1.232767105102539\n",
      "Epoch: 30 Loss D.: 0.5380630493164062\n",
      "Epoch: 30 Loss G.: 1.2172237634658813\n",
      "Epoch: 31 Loss D.: 0.4387190043926239\n",
      "Epoch: 31 Loss G.: 1.2510063648223877\n",
      "Epoch: 32 Loss D.: 0.5286495685577393\n",
      "Epoch: 32 Loss G.: 1.1481635570526123\n",
      "Epoch: 33 Loss D.: 0.5539660453796387\n",
      "Epoch: 33 Loss G.: 1.0966944694519043\n",
      "Epoch: 34 Loss D.: 0.6439328193664551\n",
      "Epoch: 34 Loss G.: 1.2797116041183472\n",
      "Epoch: 35 Loss D.: 0.6253483891487122\n",
      "Epoch: 35 Loss G.: 1.1429601907730103\n",
      "Epoch: 36 Loss D.: 0.6337047815322876\n",
      "Epoch: 36 Loss G.: 1.042669653892517\n",
      "Epoch: 37 Loss D.: 0.6103345155715942\n",
      "Epoch: 37 Loss G.: 1.150421142578125\n",
      "Epoch: 38 Loss D.: 0.5843083262443542\n",
      "Epoch: 38 Loss G.: 1.05784273147583\n",
      "Epoch: 39 Loss D.: 0.4899587631225586\n",
      "Epoch: 39 Loss G.: 1.0508062839508057\n",
      "Epoch: 40 Loss D.: 0.46720269322395325\n",
      "Epoch: 40 Loss G.: 1.2094963788986206\n",
      "Epoch: 41 Loss D.: 0.5346692800521851\n",
      "Epoch: 41 Loss G.: 1.119886040687561\n",
      "Epoch: 42 Loss D.: 0.48490267992019653\n",
      "Epoch: 42 Loss G.: 1.1416751146316528\n",
      "Epoch: 43 Loss D.: 0.547086775302887\n",
      "Epoch: 43 Loss G.: 1.0170012712478638\n",
      "Epoch: 44 Loss D.: 0.6120385527610779\n",
      "Epoch: 44 Loss G.: 1.2287360429763794\n",
      "Epoch: 45 Loss D.: 0.49929460883140564\n",
      "Epoch: 45 Loss G.: 1.056135892868042\n",
      "Epoch: 46 Loss D.: 0.5249589085578918\n",
      "Epoch: 46 Loss G.: 0.9476821422576904\n",
      "Epoch: 47 Loss D.: 0.4469881057739258\n",
      "Epoch: 47 Loss G.: 1.1959218978881836\n",
      "Epoch: 48 Loss D.: 0.6090048551559448\n",
      "Epoch: 48 Loss G.: 1.1629242897033691\n",
      "Epoch: 49 Loss D.: 0.5368129014968872\n",
      "Epoch: 49 Loss G.: 1.3733148574829102\n"
     ]
    }
   ],
   "source": [
    "for epoch in range(num_epochs):\n",
    "    for n, (real_samples, mnist_labels) in enumerate(train_loader):\n",
    "        # Data for training the discriminator\n",
    "        real_samples = real_samples.to(device=device)\n",
    "        real_samples_labels = torch.ones((batch_size, 1)).to(\n",
    "            device=device\n",
    "        )\n",
    "        latent_space_samples = torch.randn((batch_size, 100)).to(\n",
    "            device=device\n",
    "        )\n",
    "        generated_samples = generator(latent_space_samples)\n",
    "        generated_samples_labels = torch.zeros((batch_size, 1)).to(\n",
    "            device=device\n",
    "        )\n",
    "        all_samples = torch.cat((real_samples, generated_samples))\n",
    "        all_samples_labels = torch.cat(\n",
    "            (real_samples_labels, generated_samples_labels)\n",
    "        )\n",
    "\n",
    "        # Training the discriminator\n",
    "        discriminator.zero_grad()\n",
    "        output_discriminator = discriminator(all_samples)\n",
    "        loss_discriminator = loss_function(\n",
    "            output_discriminator, all_samples_labels\n",
    "        )\n",
    "        loss_discriminator.backward()\n",
    "        optimizer_discriminator.step()\n",
    "\n",
    "        # Data for training the generator\n",
    "        latent_space_samples = torch.randn((batch_size, 100)).to(\n",
    "            device=device\n",
    "        )\n",
    "\n",
    "        # Training the generator\n",
    "        generator.zero_grad()\n",
    "        generated_samples = generator(latent_space_samples)\n",
    "        output_discriminator_generated = discriminator(generated_samples)\n",
    "        loss_generator = loss_function(\n",
    "            output_discriminator_generated, real_samples_labels\n",
    "        )\n",
    "        loss_generator.backward()\n",
    "        optimizer_generator.step()\n",
    "\n",
    "        # Show loss\n",
    "        if n == batch_size - 1:\n",
    "            print(f\"Epoch: {epoch} Loss D.: {loss_discriminator}\")\n",
    "            print(f\"Epoch: {epoch} Loss G.: {loss_generator}\")"
   ]
  },
  {
   "cell_type": "markdown",
   "id": "d4daa0f3",
   "metadata": {},
   "source": [
    "Some of the tensors don’t need to be sent to the GPU explicitly with device. This is the case with `generated_samples` in __line 11__, which will already be sent to an available GPU since `latent_space_samples` and `generator` were sent to the GPU previously."
   ]
  },
  {
   "cell_type": "markdown",
   "id": "f80aba20",
   "metadata": {},
   "source": [
    "### Reviewing the GAN Generator"
   ]
  },
  {
   "cell_type": "code",
   "execution_count": 11,
   "id": "0ee05dc6",
   "metadata": {},
   "outputs": [],
   "source": [
    "latent_space_samples = torch.randn(batch_size, 100).to(device=device)\n",
    "generated_samples = generator(latent_space_samples)"
   ]
  },
  {
   "cell_type": "markdown",
   "id": "c7983491",
   "metadata": {},
   "source": [
    "To plot `generated_samples`, move the data back to the CPU in case it’s running on the GPU by calling `.cpu()`. Call `.detach()` before using Matplotlib to plot the data."
   ]
  },
  {
   "cell_type": "code",
   "execution_count": 12,
   "id": "6f9458fc",
   "metadata": {},
   "outputs": [
    {
     "data": {
      "image/png": "[encoded data removed]",
      "text/plain": [
       "<Figure size 432x288 with 16 Axes>"
      ]
     },
     "metadata": {},
     "output_type": "display_data"
    }
   ],
   "source": [
    "generated_samples = generated_samples.cpu().detach()\n",
    "for i in range(16):\n",
    "    ax = plt.subplot(4, 4, i + 1)\n",
    "    plt.imshow(generated_samples[i].reshape(28, 28), cmap=\"gray_r\")\n",
    "    plt.xticks([])\n",
    "    plt.yticks([])"
   ]
  }
 ],
 "metadata": {
  "kernelspec": {
   "display_name": "gans-env",
   "language": "python",
   "name": "gans-env"
  },
  "language_info": {
   "codemirror_mode": {
    "name": "ipython",
    "version": 3
   },
   "file_extension": ".py",
   "mimetype": "text/x-python",
   "name": "python",
   "nbconvert_exporter": "python",
   "pygments_lexer": "ipython3",
   "version": "3.8.12"
  }
 },
 "nbformat": 4,
 "nbformat_minor": 5
}
